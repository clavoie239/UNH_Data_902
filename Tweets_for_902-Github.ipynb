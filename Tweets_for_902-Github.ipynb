{
 "cells": [
  {
   "cell_type": "code",
   "execution_count": 3,
   "metadata": {},
   "outputs": [],
   "source": [
    "# Import three of the below\n",
    "\n",
    "from tweepy import Stream\n",
    "from tweepy import OAuthHandler\n",
    "from tweepy.streaming import StreamListener\n",
    "# import time\n",
    "\n",
    "# ------------------------------------------------------------------\n",
    "# Tweepy twitter API documentation\n",
    "# http://docs.tweepy.org/en/v3.5.0/api.html\n",
    "# https://github.com/tweepy/tweepy/blob/master/tweepy/streaming.py\n",
    "# ------------------------------------------------------------------\n",
    "\n",
    "\n",
    "ckey=\n",
    "csecret=\n",
    "atoken=\n",
    "asecret=\n"
   ]
  },
  {
   "cell_type": "code",
   "execution_count": 12,
   "metadata": {},
   "outputs": [],
   "source": [
    "# --------------------------\n",
    "# Topic specific tweets\n",
    "# --------------------------\n",
    "import csv\n",
    "import tweepy\n",
    "\n",
    "OAUTH_KEYS = {'consumer_key':ckey, 'consumer_secret':csecret,\n",
    " 'access_token_key':atoken, 'access_token_secret':asecret}\n",
    "auth = tweepy.OAuthHandler(OAUTH_KEYS['consumer_key'], OAUTH_KEYS['consumer_secret'])\n",
    "api = tweepy.API(auth)\n",
    "\n",
    "\n",
    "obama = tweepy.Cursor(api.search, q='#obamacare').items(2000)\n",
    "\n",
    "# Open/create a file to append data to\n",
    "csvFile = open('obamacare.csv', 'a')\n",
    "\n",
    "#Use csv writer\n",
    "csvWriter = csv.writer(csvFile)\n",
    "\n",
    "\n",
    "    \n",
    "# for tweet in tweepy.Cursor(api.search,q = [\"@bostonmarathon\", \"@nba\"], geocode=\"28.7041,77.1025,10km\",lang = \"en\").items(10):\n",
    "for tweet in tweepy.Cursor(api.search, q = [\"#obamacare\"], lang = \"en\").items(2000):\n",
    "    # Write a row to the CSV file. \n",
    "    csvWriter.writerow([tweet.created_at, tweet.text.encode('utf-8')])\n",
    "\n",
    "    \n",
    "# print(tweet.created_at, tweet.text)\n",
    "csvFile.close()\n"
   ]
  }
 ],
 "metadata": {
  "kernelspec": {
   "display_name": "Python 3",
   "language": "python",
   "name": "python3"
  },
  "language_info": {
   "codemirror_mode": {
    "name": "ipython",
    "version": 3
   },
   "file_extension": ".py",
   "mimetype": "text/x-python",
   "name": "python",
   "nbconvert_exporter": "python",
   "pygments_lexer": "ipython3",
   "version": "3.6.4"
  }
 },
 "nbformat": 4,
 "nbformat_minor": 2
}
